{
 "cells": [
  {
   "cell_type": "markdown",
   "metadata": {},
   "source": [
    "# CHECKING GREAT CIRCLE EXPRESSIONS\n",
    "#### (Labor Day, Sept 3, 2018)\n",
    "\n",
    "\n",
    "David Koski writes (on Facebook):\n",
    "\n",
    "Studying the Great Circles of the Icosahedron utilizing vZome software which default colors the lengths. I added the colors to the panels.\n",
    "\n",
    "This 120th of a rhombic triacontahedron shows the surface of an E module face. The green shaded area represent the Fe module, the purple the Fi module, orange the Fo modules and lastly the blue the Fum modules.\n",
    "\n",
    "I have labeled the key points for description, that are taken from the black and white graphic.\n",
    "\n",
    "There are seven length emanating from point C which is the center of a rhombus of the rhombic triacontahedron.\n",
    "\n",
    "Lengths AC and BC are equal and have the same central angle. We can choose either as representing the 15 Great Circles (GC), so in its redundancy we only have six directions to work with here.\n",
    "\n",
    "There are 3 different sets of GC of the Icosahedron, 6,10 and 15\n",
    "\n",
    "Length C.D is part of the 6 GC and the central angle for C.D is 18º with an arctangent of ((5-√5)(√(10-2√5)))/20\n",
    "\n",
    "Its relative Secondary GC length is C.11\n",
    "\n",
    "This is matched up in that the central angle is 19.964628º with an arctangent of ((√5-1)(√(10-2√5)))/8\n",
    "\n",
    "The common element here is (√(10-2√5))/4\n",
    "\n",
    "These secondary GC use paired points of D as the poles.\n",
    "\n",
    "Length C.E is part of the 10 GC and is paired with the secondary GC length C.1\n",
    "\n",
    "* C.E is 22.238756º, arctangent (√5-2)(√3)\n",
    "* C.1 is 18.303816º, arctangent ((3-√5)/4)(√3)\n",
    "\n",
    "With √3 being the common element.\n",
    "\n",
    "Length C.6 is sort of a stand alone secondary GC, but I am pairing it up with the 15 GC length A.C\n",
    "\n",
    "* C.6 is 18.461615º, arctangent (√5-2)(√2)\n",
    "* A.C (or C.F) is 20.905157º, arctangent (3-√5)/2.\n",
    "\n",
    "There is no direct common element, yet the √2 is the obvious diagonal to the square.\n",
    "\n",
    "A final note for Kirby Urner, is that the triangle face C.E.6 has the same surface area as the purple shaded area that is the surface of the Fi module and therefore has the same volume as well.\n",
    "\n",
    "<a data-flickr-embed=\"true\"  href=\"https://www.flickr.com/photos/kirbyurner/44458442401/in/dateposted-public/\" title=\"lcd_triangle\"><img src=\"https://farm2.staticflickr.com/1851/44458442401_98bb5585e8_o.jpg\" width=\"736\" height=\"467\" alt=\"lcd_triangle\"></a><script async src=\"//embedr.flickr.com/assets/client-code.js\" charset=\"utf-8\"></script>"
   ]
  },
  {
   "cell_type": "code",
   "execution_count": 1,
   "metadata": {
    "collapsed": true
   },
   "outputs": [],
   "source": [
    "from math import sqrt as rt2\n",
    "from math import atan, sin, degrees, radians"
   ]
  },
  {
   "cell_type": "code",
   "execution_count": 2,
   "metadata": {},
   "outputs": [
    {
     "data": {
      "text/plain": [
       "22.238756092964973"
      ]
     },
     "execution_count": 2,
     "metadata": {},
     "output_type": "execute_result"
    }
   ],
   "source": [
    "C_E = degrees(atan((rt2(5)-2)*(rt2(3))))\n",
    "C_E"
   ]
  },
  {
   "cell_type": "code",
   "execution_count": 3,
   "metadata": {},
   "outputs": [
    {
     "data": {
      "text/plain": [
       "18.303816057520446"
      ]
     },
     "execution_count": 3,
     "metadata": {},
     "output_type": "execute_result"
    }
   ],
   "source": [
    "C_1 = degrees(atan(((3-rt2(5))/4)*(rt2(3))))\n",
    "C_1"
   ]
  },
  {
   "cell_type": "code",
   "execution_count": 4,
   "metadata": {},
   "outputs": [
    {
     "data": {
      "text/plain": [
       "18.461614830644024"
      ]
     },
     "execution_count": 4,
     "metadata": {},
     "output_type": "execute_result"
    }
   ],
   "source": [
    "C_6 = degrees(atan((rt2(5)-2)*(rt2(2))))\n",
    "C_6"
   ]
  },
  {
   "cell_type": "code",
   "execution_count": 5,
   "metadata": {},
   "outputs": [
    {
     "data": {
      "text/plain": [
       "18.461614830644017"
      ]
     },
     "execution_count": 5,
     "metadata": {},
     "output_type": "execute_result"
    }
   ],
   "source": [
    "Ø = (1 + rt2(5))/2\n",
    "C_6 = degrees(atan((Ø**-3)*(rt2(2))))\n",
    "C_6"
   ]
  },
  {
   "cell_type": "code",
   "execution_count": 6,
   "metadata": {},
   "outputs": [
    {
     "data": {
      "text/plain": [
       "20.905157447889295"
      ]
     },
     "execution_count": 6,
     "metadata": {},
     "output_type": "execute_result"
    }
   ],
   "source": [
    "A_C = degrees(atan((3-rt2(5))/2))\n",
    "A_C"
   ]
  },
  {
   "cell_type": "markdown",
   "metadata": {},
   "source": [
    "David continues: \n",
    "\n",
    "* A_C (blue) arctan Ø^-2\n",
    "* C_1 (yellow) arctan ((Ø^-2)/2)(√3)\n",
    "* C_D (orange) arctan ((5-√5)/5)(sin 36º)\n",
    "* C_6 (green) arctangent (Ø^-3)(√2)\n",
    "* C_11 (red) arctan (Ø^-1)(sin 36º)\n",
    "* C_E (purple) arctan (Ø^-3)(√3)"
   ]
  },
  {
   "cell_type": "code",
   "execution_count": 7,
   "metadata": {
    "collapsed": true
   },
   "outputs": [],
   "source": [
    "def deg_atan(r):\n",
    "    return degrees(atan(r))"
   ]
  },
  {
   "cell_type": "code",
   "execution_count": 8,
   "metadata": {},
   "outputs": [],
   "source": [
    "A_C = deg_atan(Ø**-2)\n",
    "C_1 = deg_atan(((Ø**-2)/2)*rt2(3))\n",
    "C_D = deg_atan(((5-rt2(5))/5)*(sin(radians(36))))\n",
    "C_6 = deg_atan((Ø**-3)*(rt2(2)))\n",
    "C_11= deg_atan((Ø**-1)*(sin(radians(36))))\n",
    "C_E = deg_atan((Ø**-3)*(rt2(3)))"
   ]
  },
  {
   "cell_type": "code",
   "execution_count": 9,
   "metadata": {},
   "outputs": [
    {
     "data": {
      "text/plain": [
       "18.0"
      ]
     },
     "execution_count": 9,
     "metadata": {},
     "output_type": "execute_result"
    }
   ],
   "source": [
    "C_D"
   ]
  },
  {
   "cell_type": "code",
   "execution_count": 10,
   "metadata": {},
   "outputs": [],
   "source": [
    "C_D = deg_atan( ((5-rt2(5))*(rt2(10-2*rt2(5))))/20 )"
   ]
  },
  {
   "cell_type": "code",
   "execution_count": 11,
   "metadata": {},
   "outputs": [
    {
     "data": {
      "text/plain": [
       "18.0"
      ]
     },
     "execution_count": 11,
     "metadata": {},
     "output_type": "execute_result"
    }
   ],
   "source": [
    "C_D"
   ]
  },
  {
   "cell_type": "code",
   "execution_count": 12,
   "metadata": {},
   "outputs": [
    {
     "data": {
      "text/plain": [
       "22.23875609296496"
      ]
     },
     "execution_count": 12,
     "metadata": {},
     "output_type": "execute_result"
    }
   ],
   "source": [
    "C_E"
   ]
  },
  {
   "cell_type": "code",
   "execution_count": 13,
   "metadata": {},
   "outputs": [
    {
     "data": {
      "text/plain": [
       "18.30381605752045"
      ]
     },
     "execution_count": 13,
     "metadata": {},
     "output_type": "execute_result"
    }
   ],
   "source": [
    "C_1"
   ]
  },
  {
   "cell_type": "code",
   "execution_count": 14,
   "metadata": {},
   "outputs": [
    {
     "data": {
      "text/plain": [
       "19.96462874388612"
      ]
     },
     "execution_count": 14,
     "metadata": {},
     "output_type": "execute_result"
    }
   ],
   "source": [
    "C_11"
   ]
  }
 ],
 "metadata": {
  "kernelspec": {
   "display_name": "Python 3",
   "language": "python",
   "name": "python3"
  },
  "language_info": {
   "codemirror_mode": {
    "name": "ipython",
    "version": 3
   },
   "file_extension": ".py",
   "mimetype": "text/x-python",
   "name": "python",
   "nbconvert_exporter": "python",
   "pygments_lexer": "ipython3",
   "version": "3.6.4"
  }
 },
 "nbformat": 4,
 "nbformat_minor": 2
}
